{
 "cells": [
  {
   "cell_type": "code",
   "execution_count": 1,
   "id": "89b90a9c",
   "metadata": {},
   "outputs": [],
   "source": [
    "from web3 import Web3 \n",
    "import web3\n",
    "import json\n",
    "from eth_abi import encode\n",
    "import time\n",
    "import math\n",
    "import random\n",
    "from decimal import Decimal\n",
    "\n",
    "from config import *\n",
    "import utils\n",
    "from decrypt import get_decrypted_acc_info"
   ]
  },
  {
   "cell_type": "code",
   "execution_count": 2,
   "id": "2427a80a",
   "metadata": {},
   "outputs": [
    {
     "data": {
      "text/plain": [
       "'abi/syncswap/syncswap_router_abi.json'"
      ]
     },
     "execution_count": 2,
     "metadata": {},
     "output_type": "execute_result"
    }
   ],
   "source": [
    "SYNCSWAP_ROUTER_ABI"
   ]
  },
  {
   "cell_type": "code",
   "execution_count": 3,
   "id": "10507e6a",
   "metadata": {},
   "outputs": [],
   "source": [
    "endpoint_uri = 'https://mainnet.era.zksync.io'\n",
    "w3 = Web3(Web3.HTTPProvider(endpoint_uri))"
   ]
  },
  {
   "cell_type": "code",
   "execution_count": 4,
   "id": "a6db3369",
   "metadata": {},
   "outputs": [],
   "source": [
    "account_info = get_decrypted_acc_info(ACCOUNT_INFO_FILE_PATH)"
   ]
  },
  {
   "cell_type": "code",
   "execution_count": 5,
   "id": "0a83d6ef",
   "metadata": {},
   "outputs": [],
   "source": [
    "account_dict = {}\n",
    "for acc_info in account_info:\n",
    "    account_dict[acc_info['label']] = w3.eth.account.from_key(acc_info['private_key'])"
   ]
  },
  {
   "cell_type": "code",
   "execution_count": 6,
   "id": "e05b6533",
   "metadata": {},
   "outputs": [],
   "source": [
    "acc_label = 'sgl32'"
   ]
  },
  {
   "cell_type": "code",
   "execution_count": 7,
   "id": "0e54ae25",
   "metadata": {},
   "outputs": [],
   "source": [
    "acc = account_dict[acc_label]"
   ]
  },
  {
   "cell_type": "code",
   "execution_count": 8,
   "id": "1130dbcb",
   "metadata": {},
   "outputs": [
    {
     "name": "stdout",
     "output_type": "stream",
     "text": [
      "Balance 0.161912639582496886\n"
     ]
    }
   ],
   "source": [
    "address = acc.address\n",
    "balance = w3.eth.get_balance(address)\n",
    "print('Balance', w3.from_wei(balance, 'ether'))"
   ]
  },
  {
   "cell_type": "code",
   "execution_count": 9,
   "id": "9d05072f",
   "metadata": {},
   "outputs": [
    {
     "name": "stdout",
     "output_type": "stream",
     "text": [
      "nonce 201\n"
     ]
    }
   ],
   "source": [
    "nonce = w3.eth.get_transaction_count(address)\n",
    "print('nonce', nonce)"
   ]
  },
  {
   "cell_type": "code",
   "execution_count": 10,
   "id": "82f81caf",
   "metadata": {},
   "outputs": [],
   "source": [
    "from dapp.pancakeswap import PancakeSwap\n",
    "from dapp.syncswap import SyncSwap\n",
    "from dapp.eralend import EraLend\n",
    "from dapp.weth import WETH\n",
    "from dapp.archiswap import ArchiSwap\n",
    "from dapp.zns import ZNS\n",
    "from dapp.tevaera import Tevaera"
   ]
  },
  {
   "cell_type": "markdown",
   "id": "2d545221",
   "metadata": {},
   "source": [
    "### Time"
   ]
  },
  {
   "cell_type": "code",
   "execution_count": 15,
   "id": "7f56b0c1",
   "metadata": {},
   "outputs": [
    {
     "data": {
      "text/plain": [
       "'2023-09-28 00:44:42'"
      ]
     },
     "execution_count": 15,
     "metadata": {},
     "output_type": "execute_result"
    }
   ],
   "source": [
    "time.strftime('%Y-%m-%d %H:%M:%S', time.localtime(1695833082))"
   ]
  },
  {
   "cell_type": "code",
   "execution_count": 41,
   "id": "ee963013",
   "metadata": {},
   "outputs": [
    {
     "name": "stdout",
     "output_type": "stream",
     "text": [
      "1696123184.5967743\n"
     ]
    }
   ],
   "source": [
    "t = time.time()\n",
    "print(t)"
   ]
  },
  {
   "cell_type": "code",
   "execution_count": 42,
   "id": "5eaa17d6",
   "metadata": {},
   "outputs": [
    {
     "data": {
      "text/plain": [
       "1196.403225660324"
      ]
     },
     "execution_count": 42,
     "metadata": {},
     "output_type": "execute_result"
    }
   ],
   "source": [
    "1696124381-t"
   ]
  },
  {
   "cell_type": "markdown",
   "id": "9e5ef7dc",
   "metadata": {},
   "source": [
    "### to_checksum"
   ]
  },
  {
   "cell_type": "code",
   "execution_count": 63,
   "id": "b02d46c1",
   "metadata": {},
   "outputs": [
    {
     "data": {
      "text/plain": [
       "'0x50B2b7092bCC15fbB8ac74fE9796Cf24602897Ad'"
      ]
     },
     "execution_count": 63,
     "metadata": {},
     "output_type": "execute_result"
    }
   ],
   "source": [
    "Web3.to_checksum_address('0x50b2b7092bcc15fbb8ac74fe9796cf24602897ad')"
   ]
  },
  {
   "cell_type": "markdown",
   "id": "3f6d05e5",
   "metadata": {},
   "source": [
    "### ABI convert"
   ]
  },
  {
   "cell_type": "code",
   "execution_count": 60,
   "id": "3d8ecd3c",
   "metadata": {},
   "outputs": [],
   "source": [
    "with open('abi/weth/abi11.json', 'r') as f:\n",
    "    a = json.load(f)"
   ]
  },
  {
   "cell_type": "code",
   "execution_count": 61,
   "id": "baf5cfba",
   "metadata": {},
   "outputs": [],
   "source": [
    "with open('abi/weth/abi.json', 'w') as f:\n",
    "    json.dump(a, f, indent=4)"
   ]
  },
  {
   "cell_type": "markdown",
   "id": "dcf83165",
   "metadata": {},
   "source": [
    "### To wei"
   ]
  },
  {
   "cell_type": "code",
   "execution_count": 27,
   "id": "06c16d62",
   "metadata": {},
   "outputs": [
    {
     "data": {
      "text/plain": [
       "100000000000000"
      ]
     },
     "execution_count": 27,
     "metadata": {},
     "output_type": "execute_result"
    }
   ],
   "source": [
    "amount = .0001\n",
    "Web3.to_wei(amount, 'ether')"
   ]
  },
  {
   "cell_type": "code",
   "execution_count": 26,
   "id": "e77c87ae",
   "metadata": {},
   "outputs": [
    {
     "data": {
      "text/plain": [
       "300000"
      ]
     },
     "execution_count": 26,
     "metadata": {},
     "output_type": "execute_result"
    }
   ],
   "source": [
    "amount = 0.3\n",
    "int(amount * 1e6)"
   ]
  },
  {
   "cell_type": "markdown",
   "id": "3b6a91ca",
   "metadata": {},
   "source": [
    "### dapp test"
   ]
  },
  {
   "cell_type": "code",
   "execution_count": 11,
   "id": "b7b0c348",
   "metadata": {},
   "outputs": [],
   "source": [
    "test_operator = Tevaera(acc, 0.55)"
   ]
  },
  {
   "cell_type": "code",
   "execution_count": 12,
   "id": "7bfaf26c",
   "metadata": {},
   "outputs": [
    {
     "data": {
      "text/plain": [
       "True"
      ]
     },
     "execution_count": 12,
     "metadata": {},
     "output_type": "execute_result"
    }
   ],
   "source": [
    "test_operator.mint_nft()"
   ]
  },
  {
   "cell_type": "code",
   "execution_count": 51,
   "id": "7793982f",
   "metadata": {},
   "outputs": [
    {
     "data": {
      "text/plain": [
       "'jobwound936'"
      ]
     },
     "execution_count": 51,
     "metadata": {},
     "output_type": "execute_result"
    }
   ],
   "source": [
    "zns_operator.get_compound_name()"
   ]
  },
  {
   "cell_type": "code",
   "execution_count": 55,
   "id": "4fb01bdd",
   "metadata": {},
   "outputs": [
    {
     "data": {
      "text/plain": [
       "[61954273572557932295921443237598882481618479200364231768096556799211096129672]"
      ]
     },
     "execution_count": 55,
     "metadata": {},
     "output_type": "execute_result"
    }
   ],
   "source": [
    "zns_operator.get_owned_domains()"
   ]
  },
  {
   "cell_type": "code",
   "execution_count": 58,
   "id": "25becd68",
   "metadata": {},
   "outputs": [
    {
     "data": {
      "text/plain": [
       "61954273572557932295921443237598882481618479200364231768096556799211096129672"
      ]
     },
     "execution_count": 58,
     "metadata": {},
     "output_type": "execute_result"
    }
   ],
   "source": [
    "zns_operator.get_primary_domain_id()"
   ]
  },
  {
   "cell_type": "code",
   "execution_count": 57,
   "id": "cd028ef5",
   "metadata": {},
   "outputs": [
    {
     "data": {
      "text/plain": [
       "True"
      ]
     },
     "execution_count": 57,
     "metadata": {},
     "output_type": "execute_result"
    }
   ],
   "source": [
    "zns_operator.set_new_primary_domain()"
   ]
  },
  {
   "cell_type": "code",
   "execution_count": 54,
   "id": "46eabdf1",
   "metadata": {},
   "outputs": [
    {
     "name": "stdout",
     "output_type": "stream",
     "text": [
      "Sending transaction to mint broadwinter5.zks ...\n"
     ]
    },
    {
     "data": {
      "text/plain": [
       "True"
      ]
     },
     "execution_count": 54,
     "metadata": {},
     "output_type": "execute_result"
    }
   ],
   "source": [
    "zns_operator.mint()"
   ]
  },
  {
   "cell_type": "code",
   "execution_count": 59,
   "id": "0c1e37f7",
   "metadata": {},
   "outputs": [],
   "source": [
    "gas = utils.get_eth_mainnet_gas_price()"
   ]
  },
  {
   "cell_type": "code",
   "execution_count": 61,
   "id": "c1a341ae",
   "metadata": {},
   "outputs": [
    {
     "data": {
      "text/plain": [
       "13.772820379"
      ]
     },
     "execution_count": 61,
     "metadata": {},
     "output_type": "execute_result"
    }
   ],
   "source": [
    "float(gas)"
   ]
  },
  {
   "cell_type": "code",
   "execution_count": null,
   "id": "6d9241d2",
   "metadata": {},
   "outputs": [],
   "source": []
  }
 ],
 "metadata": {
  "kernelspec": {
   "display_name": "Python 3 (ipykernel)",
   "language": "python",
   "name": "python3"
  },
  "language_info": {
   "codemirror_mode": {
    "name": "ipython",
    "version": 3
   },
   "file_extension": ".py",
   "mimetype": "text/x-python",
   "name": "python",
   "nbconvert_exporter": "python",
   "pygments_lexer": "ipython3",
   "version": "3.9.7"
  }
 },
 "nbformat": 4,
 "nbformat_minor": 5
}
